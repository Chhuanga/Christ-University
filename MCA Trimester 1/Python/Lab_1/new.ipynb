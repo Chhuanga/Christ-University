{
 "cells": [
  {
   "cell_type": "code",
   "execution_count": 20,
   "metadata": {},
   "outputs": [
    {
     "name": "stdout",
     "output_type": "stream",
     "text": [
      "Index: 2, String: aba\n",
      "Index: 3, String: 1221\n"
     ]
    }
   ],
   "source": [
    "A = ['abc', 'xyz', 'aba', '1221']\n",
    "\n",
    "for index, string in enumerate(A):\n",
    "    if string[0] == string[-1]:\n",
    "        print(f\"Index: {index}, String: {string}\")\n",
    "\n"
   ]
  },
  {
   "cell_type": "code",
   "execution_count": 10,
   "metadata": {},
   "outputs": [
    {
     "name": "stdout",
     "output_type": "stream",
     "text": [
      "8437\n",
      "895936582183780\n",
      "4223\n",
      "142\n"
     ]
    }
   ],
   "source": [
    "#Print the sum of all the integers in a list\n",
    "l1=[142,523,2315,4223,1234]\n",
    "print(sum(l1))\n",
    "result = 1\n",
    "for num in l1:\n",
    "    result *= num\n",
    "print(result)\n",
    "print(max(l1))\n",
    "print(min(l1))"
   ]
  },
  {
   "cell_type": "code",
   "execution_count": 11,
   "metadata": {},
   "outputs": [
    {
     "name": "stdout",
     "output_type": "stream",
     "text": [
      "*\n",
      "**\n",
      "***\n",
      "****\n",
      "*****\n",
      "    A\n",
      "   AB\n",
      "  ABC\n",
      " ABCD\n",
      "ABCDE\n"
     ]
    }
   ],
   "source": [
    "for i in range(1, 6):\n",
    "    print(\"*\" *i)\n",
    "    \n",
    "n = 5\n",
    "\n",
    "for i in range(n):\n",
    "    for j in range(n-i-1):\n",
    "        print(\" \", end=\"\")\n",
    "    for k in range(i+1):\n",
    "        print(chr(65 + k), end=\"\")\n",
    "    print()"
   ]
  },
  {
   "cell_type": "code",
   "execution_count": 12,
   "metadata": {},
   "outputs": [
    {
     "name": "stdout",
     "output_type": "stream",
     "text": [
      "[{'Color': 'Black', 'HexCode': '000000'}, {'Color': 'Red', 'HexCode': 'FF0000'}, {'Color': 'Maroon', 'HexCode': '800000'}, {'Color': 'Yellow', 'HexCode': 'FFFF00'}]\n"
     ]
    }
   ],
   "source": [
    "#4\n",
    "ListColour = (['Black', 'Red', 'Maroon', 'Yellow'], ['000000', 'FF0000', '800000', 'FFFF00'])\n",
    "result = [{'Color': color, 'HexCode': hexcode} for color, hexcode in zip(*ListColour)]\n",
    "print(result)"
   ]
  },
  {
   "cell_type": "code",
   "execution_count": 13,
   "metadata": {},
   "outputs": [
    {
     "name": "stdout",
     "output_type": "stream",
     "text": [
      "2 = 4\n",
      "4 = 16\n",
      "6 = 36\n",
      "8 = 64\n",
      "10 = 100\n",
      "12 = 144\n",
      "14 = 196\n",
      "16 = 256\n",
      "18 = 324\n",
      "20 = 400\n",
      "22 = 484\n",
      "24 = 576\n",
      "26 = 676\n",
      "28 = 784\n",
      "30 = 900\n",
      "32 = 1024\n",
      "34 = 1156\n",
      "36 = 1296\n",
      "38 = 1444\n",
      "40 = 1600\n",
      "42 = 1764\n",
      "44 = 1936\n",
      "46 = 2116\n",
      "48 = 2304\n",
      "1-100\n",
      "2 = 4\n",
      "1-100\n",
      "4 = 16\n",
      "1-100\n",
      "6 = 36\n",
      "1-100\n",
      "8 = 64\n",
      "1-100\n",
      "10 = 100\n",
      "1-100\n",
      "12 = 144\n",
      "1-100\n",
      "14 = 196\n",
      "1-100\n",
      "16 = 256\n",
      "1-100\n",
      "18 = 324\n",
      "1-100\n",
      "20 = 400\n",
      "1-100\n",
      "22 = 484\n",
      "1-100\n",
      "24 = 576\n",
      "1-100\n",
      "26 = 676\n",
      "1-100\n",
      "28 = 784\n",
      "1-100\n",
      "30 = 900\n",
      "1-100\n",
      "32 = 1024\n",
      "1-100\n",
      "34 = 1156\n",
      "1-100\n",
      "36 = 1296\n",
      "1-100\n",
      "38 = 1444\n",
      "1-100\n",
      "40 = 1600\n",
      "1-100\n",
      "42 = 1764\n",
      "1-100\n",
      "44 = 1936\n",
      "1-100\n",
      "46 = 2116\n",
      "1-100\n",
      "48 = 2304\n",
      "1-100\n",
      "50 = 2500\n",
      "1-100\n",
      "52 = 2704\n",
      "1-100\n",
      "54 = 2916\n",
      "1-100\n",
      "56 = 3136\n",
      "1-100\n",
      "58 = 3364\n",
      "1-100\n",
      "60 = 3600\n",
      "1-100\n",
      "62 = 3844\n",
      "1-100\n",
      "64 = 4096\n",
      "1-100\n",
      "66 = 4356\n",
      "1-100\n",
      "68 = 4624\n",
      "1-100\n",
      "70 = 4900\n",
      "1-100\n",
      "72 = 5184\n",
      "1-100\n",
      "74 = 5476\n",
      "1-100\n",
      "76 = 5776\n",
      "1-100\n",
      "78 = 6084\n",
      "1-100\n",
      "80 = 6400\n",
      "1-100\n",
      "82 = 6724\n",
      "1-100\n",
      "84 = 7056\n",
      "1-100\n",
      "86 = 7396\n",
      "1-100\n",
      "88 = 7744\n",
      "1-100\n",
      "90 = 8100\n",
      "1-100\n",
      "92 = 8464\n",
      "1-100\n",
      "94 = 8836\n",
      "1-100\n",
      "96 = 9216\n",
      "1-100\n",
      "98 = 9604\n"
     ]
    }
   ],
   "source": [
    "#exercise 5\n",
    "\n",
    "for i in range(1,50):\n",
    "    if(i%2==0):\n",
    "        print(f'{i} = {i*i}')\n",
    "\n",
    "for i in range(1,100):\n",
    "    if(i%2==0):\n",
    "        print('1-100')\n",
    "        print(f'{i} = {i*i}')"
   ]
  },
  {
   "cell_type": "code",
   "execution_count": 14,
   "metadata": {},
   "outputs": [
    {
     "name": "stdout",
     "output_type": "stream",
     "text": [
      "8\n",
      "321\n"
     ]
    }
   ],
   "source": [
    "#6\n",
    "def sumofdigits(num):\n",
    "    tot=0\n",
    "    for digit in str(n):\n",
    "        tot+=int(digit)\n",
    "    return tot\n",
    "\n",
    "def reverseofdigits(num):\n",
    "    rev=str(n)\n",
    "    return rev[2::-1]\n",
    "\n",
    "\n",
    "n=1232\n",
    "print(sumofdigits(n))\n",
    "print(reverseofdigits(n))\n",
    "\n",
    "\n"
   ]
  },
  {
   "cell_type": "code",
   "execution_count": 15,
   "metadata": {},
   "outputs": [
    {
     "name": "stdout",
     "output_type": "stream",
     "text": [
      "Total area enclosed by both triangles: 21.235275915476976\n",
      "Triangle 1's contribution towards the total area: 46.722102674734 %\n",
      "Triangle 2's contribution towards the total area: 53.27789732526599 %\n"
     ]
    }
   ],
   "source": [
    "#7\n",
    "\n",
    "import math\n",
    "\n",
    "def calculate_area(a, b, c):\n",
    "    # calculates the semi-perimeter\n",
    "    s = (a + b + c) / 2\n",
    "    \n",
    "    # calculates the area using Heron's formula\n",
    "    area = math.sqrt(s * (s - a) * (s - b) * (s - c))\n",
    "    \n",
    "    return area\n",
    "\n",
    "# gets the sides of the first triangle from user \n",
    "a1 = float(input(\"Enter the length of side A of the first triangle: \"))\n",
    "b1 = float(input(\"Enter the length of side B of the first triangle: \"))\n",
    "c1 = float(input(\"Enter the length of side C of the first triangle: \"))\n",
    "\n",
    "# calculates the area of the first triangle\n",
    "area1 = calculate_area(a1, b1, c1)\n",
    "\n",
    "# get the sides of the second triangle from user \n",
    "a2 = float(input(\"Enter the length of side A of the second triangle: \"))\n",
    "b2 = float(input(\"Enter the length of side B of the second triangle: \"))\n",
    "c2 = float(input(\"Enter the length of side C of the second triangle: \"))\n",
    "\n",
    "# calculates the area of the second triangle\n",
    "area2 = calculate_area(a2, b2, c2)\n",
    "\n",
    "# calculates the total area enclosed by both triangles\n",
    "total_area = area1 + area2\n",
    "\n",
    "# calculates the percentage contribution of each triangle towards the total area\n",
    "percentage1 = (area1 / total_area) * 100\n",
    "percentage2 = (area2 / total_area) * 100\n",
    "\n",
    "# print the results\n",
    "print(\"Total area enclosed by both triangles:\", total_area)\n",
    "print(\"Triangle 1's contribution towards the total area:\", percentage1, \"%\")\n",
    "print(\"Triangle 2's contribution towards the total area:\", percentage2, \"%\")"
   ]
  },
  {
   "cell_type": "code",
   "execution_count": 16,
   "metadata": {},
   "outputs": [
    {
     "name": "stdout",
     "output_type": "stream",
     "text": [
      "Name: John Doe\n",
      "Age: 30\n",
      "Blood Group: A+\n",
      "--------------------------------\n",
      "Name: Jane Smith\n",
      "Age: 25\n",
      "Blood Group: B-\n",
      "--------------------------------\n",
      "Name: Emily Davis\n",
      "Age: 40\n",
      "Blood Group: O+\n",
      "--------------------------------\n",
      "Name: Michael Brown\n",
      "Age: 35\n",
      "Blood Group: AB-\n",
      "--------------------------------\n",
      "Name: William Johnson\n",
      "Age: 28\n",
      "Blood Group: A-\n",
      "--------------------------------\n",
      "Name: Emma Wilson\n",
      "Age: 22\n",
      "Blood Group: B+\n",
      "--------------------------------\n",
      "Name: Oliver Martinez\n",
      "Age: 33\n",
      "Blood Group: O-\n",
      "--------------------------------\n",
      "Name: Sophia Anderson\n",
      "Age: 27\n",
      "Blood Group: AB+\n",
      "--------------------------------\n",
      "Name: James Thomas\n",
      "Age: 45\n",
      "Blood Group: A+\n",
      "--------------------------------\n",
      "Name: Isabella Lee\n",
      "Age: 38\n",
      "Blood Group: B-\n",
      "--------------------------------\n"
     ]
    }
   ],
   "source": [
    "#8\n",
    "dict1 = [\n",
    "    {\"name\": \"John Doe\", \"age\": 30, \"blood_group\": \"A+\"},\n",
    "    {\"name\": \"Jane Smith\", \"age\": 25, \"blood_group\": \"B-\"},\n",
    "    {\"name\": \"Emily Davis\", \"age\": 40, \"blood_group\": \"O+\"},\n",
    "    {\"name\": \"Michael Brown\", \"age\": 35, \"blood_group\": \"AB-\"},\n",
    "    {\"name\": \"William Johnson\", \"age\": 28, \"blood_group\": \"A-\"},\n",
    "    {\"name\": \"Emma Wilson\", \"age\": 22, \"blood_group\": \"B+\"},\n",
    "    {\"name\": \"Oliver Martinez\", \"age\": 33, \"blood_group\": \"O-\"},\n",
    "    {\"name\": \"Sophia Anderson\", \"age\": 27, \"blood_group\": \"AB+\"},\n",
    "    {\"name\": \"James Thomas\", \"age\": 45, \"blood_group\": \"A+\"},\n",
    "    {\"name\": \"Isabella Lee\", \"age\": 38, \"blood_group\": \"B-\"}\n",
    "]\n",
    "\n",
    "for i in range(len(dict1)):\n",
    "    print(f\"Name: {dict1[i]['name']}\\nAge: {dict1[i]['age']}\\nBlood Group: {dict1[i]['blood_group']}\")\n",
    "    print(\"--------------------------------\")"
   ]
  },
  {
   "cell_type": "code",
   "execution_count": 17,
   "metadata": {},
   "outputs": [
    {
     "name": "stdout",
     "output_type": "stream",
     "text": [
      "['n', 'n', 'p']\n"
     ]
    }
   ],
   "source": [
    "#9\n",
    "tup=(\"python\",\"learn\",\"includehelp\")\n",
    "\n",
    "last_letters = [element[-1] for element in tup]\n",
    "print(last_letters)"
   ]
  },
  {
   "cell_type": "code",
   "execution_count": 18,
   "metadata": {},
   "outputs": [
    {
     "name": "stdout",
     "output_type": "stream",
     "text": [
      "The number of days in February is 28.\n"
     ]
    }
   ],
   "source": [
    "#10 \n",
    "month_days = {\n",
    "    'January': 31,\n",
    "    'February': 28,\n",
    "    'March': 31,\n",
    "    'April': 30,\n",
    "    'May': 31,\n",
    "    'June': 30,\n",
    "    'July': 31,\n",
    "    'August': 31,\n",
    "    'September': 30,\n",
    "    'October': 31,\n",
    "    'November': 30,\n",
    "    'December': 31\n",
    "}\n",
    "\n",
    "month_name = input(\"Enter the month name: \")\n",
    "leap_year = False\n",
    "if month_name == 'February':\n",
    "    year = int(input(\"Enter the year: \"))\n",
    "    if year % 4 == 0 and (year % 100 != 0 or year % 400 == 0):\n",
    "        leap_year = True\n",
    "\n",
    "if month_name in month_days:\n",
    "    if month_name == 'February' and leap_year:\n",
    "        print(f\"The number of days in {month_name} is 29.\")\n",
    "    else:\n",
    "        print(f\"The number of days in {month_name} is {month_days[month_name]}.\")\n",
    "else:\n",
    "    print(\"Invalid month name.\")"
   ]
  },
  {
   "cell_type": "code",
   "execution_count": null,
   "metadata": {},
   "outputs": [],
   "source": [
    "\n"
   ]
  },
  {
   "cell_type": "code",
   "execution_count": null,
   "metadata": {},
   "outputs": [],
   "source": [
    "\n",
    "    \n",
    "        "
   ]
  },
  {
   "cell_type": "code",
   "execution_count": null,
   "metadata": {
    "vscode": {
     "languageId": "r"
    }
   },
   "outputs": [],
   "source": []
  }
 ],
 "metadata": {
  "kernelspec": {
   "display_name": "Python 3",
   "language": "python",
   "name": "python3"
  },
  "language_info": {
   "codemirror_mode": {
    "name": "ipython",
    "version": 3
   },
   "file_extension": ".py",
   "mimetype": "text/x-python",
   "name": "python",
   "nbconvert_exporter": "python",
   "pygments_lexer": "ipython3",
   "version": "3.10.0"
  }
 },
 "nbformat": 4,
 "nbformat_minor": 2
}
