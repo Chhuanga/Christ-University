{
 "cells": [
  {
   "cell_type": "markdown",
   "metadata": {},
   "source": [
    "Exception Handling in Python:\n",
    "\n",
    "In Python, errors and exception are both type of issues that can occur\n",
    "\n",
    "Types of Errors: Syntax,Logical and Error\n",
    "\n",
    "Types of Exception: NameError, IndexError, ZeroDivisionError, Import Error\n",
    "\n",
    "Handling Exceptions: Python provides a way to handle excptions so that the program can continue runnign even after encountering an error.\n",
    "\n",
    "\n"
   ]
  },
  {
   "cell_type": "code",
   "execution_count": null,
   "metadata": {},
   "outputs": [],
   "source": []
  },
  {
   "cell_type": "code",
   "execution_count": 8,
   "metadata": {},
   "outputs": [
    {
     "ename": "ValueError",
     "evalue": "a cannot be less than zero",
     "output_type": "error",
     "traceback": [
      "\u001b[1;31m---------------------------------------------------------------------------\u001b[0m",
      "\u001b[1;31mValueError\u001b[0m                                Traceback (most recent call last)",
      "Cell \u001b[1;32mIn[8], line 3\u001b[0m\n\u001b[0;32m      1\u001b[0m a \u001b[38;5;241m=\u001b[39m \u001b[38;5;28mint\u001b[39m(\u001b[38;5;28minput\u001b[39m(\u001b[38;5;124m\"\u001b[39m\u001b[38;5;124mEnter the first value\u001b[39m\u001b[38;5;124m\"\u001b[39m))\n\u001b[0;32m      2\u001b[0m \u001b[38;5;28;01mif\u001b[39;00m a \u001b[38;5;241m<\u001b[39m \u001b[38;5;241m0\u001b[39m:\n\u001b[1;32m----> 3\u001b[0m     \u001b[38;5;28;01mraise\u001b[39;00m \u001b[38;5;167;01mValueError\u001b[39;00m(\u001b[38;5;124m\"\u001b[39m\u001b[38;5;124ma cannot be less than zero\u001b[39m\u001b[38;5;124m\"\u001b[39m)\n\u001b[0;32m      4\u001b[0m b \u001b[38;5;241m=\u001b[39m \u001b[38;5;28mint\u001b[39m(\u001b[38;5;28minput\u001b[39m(\u001b[38;5;124m\"\u001b[39m\u001b[38;5;124mEnter the second value\u001b[39m\u001b[38;5;124m\"\u001b[39m))\n\u001b[0;32m      6\u001b[0m \u001b[38;5;28;01mtry\u001b[39;00m:\n",
      "\u001b[1;31mValueError\u001b[0m: a cannot be less than zero"
     ]
    }
   ],
   "source": [
    "a = int(input(\"Enter the first value\"))\n",
    "if a < 0:\n",
    "    raise ValueError(\"a cannot be less than zero\")\n",
    "b = int(input(\"Enter the second value\"))\n",
    "\n",
    "try:\n",
    "    print(a / b)\n",
    "except ZeroDivisionError:\n",
    "    print(\"Division by zero is not allowed\")\n",
    "else:\n",
    "    print(\"Division is successful\")\n"
   ]
  },
  {
   "cell_type": "code",
   "execution_count": 2,
   "metadata": {},
   "outputs": [
    {
     "name": "stdout",
     "output_type": "stream",
     "text": [
      "Cannot add an integer and a string\n"
     ]
    }
   ],
   "source": [
    "word=input(\"Enter a word or character\")\n",
    "\n",
    "try:\n",
    "    print(a+word)\n",
    "except TypeError:\n",
    "    print(\"Cannot add an integer and a string\")"
   ]
  },
  {
   "cell_type": "markdown",
   "metadata": {},
   "source": [
    "Raising an exception:\n",
    "\n",
    "Raising an exception allows the programmer to indicate that something went wrong or that an unsual condition has been encountered.\n",
    "\n",
    "A few examples:\n",
    "if a function receives an invalid argument,\n",
    "if a required resource is missing, or if an operation fails for some reason.\n"
   ]
  },
  {
   "cell_type": "code",
   "execution_count": 10,
   "metadata": {},
   "outputs": [],
   "source": [
    "class NegativeValueError(Exception):\n",
    "    pass\n",
    "\n",
    "def square_root(num):\n",
    "    if num < 0:\n",
    "        raise NegativeValueError(\"Cannon find the square root of a negative number\")\n",
    "    else:\n",
    "        return num ** 0.5\n",
    "\n",
    "\n",
    "print(square_root(9))\n"
   ]
  },
  {
   "cell_type": "markdown",
   "metadata": {},
   "source": []
  }
 ],
 "metadata": {
  "kernelspec": {
   "display_name": "Python 3",
   "language": "python",
   "name": "python3"
  },
  "language_info": {
   "codemirror_mode": {
    "name": "ipython",
    "version": 3
   },
   "file_extension": ".py",
   "mimetype": "text/x-python",
   "name": "python",
   "nbconvert_exporter": "python",
   "pygments_lexer": "ipython3",
   "version": "3.12.5"
  }
 },
 "nbformat": 4,
 "nbformat_minor": 2
}
