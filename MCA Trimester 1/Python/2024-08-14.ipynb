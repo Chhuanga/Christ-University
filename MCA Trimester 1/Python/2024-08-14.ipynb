{
 "cells": [
  {
   "cell_type": "markdown",
   "metadata": {},
   "source": [
    "Python RegEx\n",
    "\n",
    "A RegEx or Regular Expression is a set of characters that forms a search pattern.\n",
    "\n",
    "Python has a in built package call re.\n"
   ]
  },
  {
   "cell_type": "code",
   "execution_count": 15,
   "metadata": {},
   "outputs": [
    {
     "name": "stdout",
     "output_type": "stream",
     "text": [
      "['Python']\n"
     ]
    }
   ],
   "source": [
    "import re\n",
    "Str1=\"Python is easier to learn than other programming languages\"\n",
    "\n",
    "x1=re.findall(\"python\",Str1,re.IGNORECASE)\n",
    "\n",
    "\n",
    "print(x1)"
   ]
  },
  {
   "cell_type": "code",
   "execution_count": 19,
   "metadata": {},
   "outputs": [
    {
     "name": "stdout",
     "output_type": "stream",
     "text": [
      "<re.Match object; span=(0, 6), match='Python'>\n"
     ]
    }
   ],
   "source": [
    "\n",
    "x1=re.search(\"Python\",Str1)\n",
    "print(x1)"
   ]
  },
  {
   "cell_type": "code",
   "execution_count": 31,
   "metadata": {},
   "outputs": [
    {
     "name": "stdout",
     "output_type": "stream",
     "text": [
      "['ll'] <re.Match object; span=(2, 4), match='ll'>\n"
     ]
    }
   ],
   "source": [
    "str2=\"Hello Rohan Gautam, How are you?\"\n",
    "\n",
    "x1=re.findall(\"LL\",str2,re.IGNORECASE)\n",
    "x2=re.search(\"LL\",str2,re.IGNORECASE)\n",
    "\n",
    "print(x1,x2)"
   ]
  },
  {
   "cell_type": "code",
   "execution_count": 30,
   "metadata": {},
   "outputs": [
    {
     "name": "stdout",
     "output_type": "stream",
     "text": [
      "(2, 4)\n",
      "['', 'H', 'e', 'l', 'l', 'o', ' ', 'R', 'o', 'h', 'a', 'n', ' ', 'G', 'a', 'u', 't', 'a', 'm', ',', ' ', 'H', 'o', 'w', ' ', 'a', 'r', 'e', ' ', 'y', 'o', 'u', '?', '']\n"
     ]
    }
   ],
   "source": [
    "print(x2.span())\n",
    "x1=re.split(\"\",str2)\n",
    "print(x1)"
   ]
  },
  {
   "cell_type": "code",
   "execution_count": 33,
   "metadata": {},
   "outputs": [
    {
     "name": "stdout",
     "output_type": "stream",
     "text": [
      "Hello Rohan Gautam Gautam, How are you?\n"
     ]
    }
   ],
   "source": [
    "x1=re.sub(\"Rohan Gautam\",\"Rohan Kumar\",str2)\n",
    "print(x1)"
   ]
  }
 ],
 "metadata": {
  "kernelspec": {
   "display_name": "Python 3",
   "language": "python",
   "name": "python3"
  },
  "language_info": {
   "codemirror_mode": {
    "name": "ipython",
    "version": 3
   },
   "file_extension": ".py",
   "mimetype": "text/x-python",
   "name": "python",
   "nbconvert_exporter": "python",
   "pygments_lexer": "ipython3",
   "version": "3.12.5"
  }
 },
 "nbformat": 4,
 "nbformat_minor": 2
}
