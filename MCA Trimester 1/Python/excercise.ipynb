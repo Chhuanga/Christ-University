{
 "cells": [
  {
   "cell_type": "code",
   "execution_count": 1,
   "metadata": {},
   "outputs": [
    {
     "name": "stdout",
     "output_type": "stream",
     "text": [
      "Anjaney Putra\n",
      "21\n"
     ]
    }
   ],
   "source": [
    "#python encapsulation \n",
    "\n",
    "class Student:\n",
    "    def __init__(self, name, age):\n",
    "        self.__name = name\n",
    "        self.__age = age\n",
    "\n",
    "    def display(self):\n",
    "        print(self.__name)\n",
    "        print(self.__age)\n",
    "        \n",
    "    def setAge(self, age):\n",
    "        self.__age = age\n",
    "        \n",
    "s1=Student(\"Anjaney Putra\", 21)\n",
    "s1.display()\n"
   ]
  },
  {
   "cell_type": "code",
   "execution_count": null,
   "metadata": {},
   "outputs": [],
   "source": [
    "class Records(Student):\n",
    "    def __init__(self,address,phone,number,department):\n",
    "        self.__address = address\n",
    "        self.__phone = phone\n",
    "        self.__number = number\n",
    "        self.__department = department\n",
    "        \n",
    "    def display(self):\n",
    "        print(self.__address)\n",
    "        print(self.__phone)\n",
    "        print(self.__number)\n",
    "        print(self.__department)\n",
    "        \n",
    "s2=Records(\"Bangalore\",\"1234567890\",1234,\"CSE\")\n",
    "s2.display()\n",
    "\n"
   ]
  },
  {
   "cell_type": "code",
   "execution_count": 9,
   "metadata": {},
   "outputs": [
    {
     "name": "stdout",
     "output_type": "stream",
     "text": [
      "(1, 'Dame')\n",
      "(2, 'Lillard')\n",
      "(3, 'CJ')\n",
      "(4, 'McCollum')\n"
     ]
    }
   ],
   "source": [
    "l1=[1,2,3,4,5]\n",
    "l2=[\"Dame\",\"Lillard\",\"CJ\",\"McCollum\"]\n",
    "for i in zip(l1,l2):\n",
    "    print(i)"
   ]
  },
  {
   "cell_type": "markdown",
   "metadata": {},
   "source": [
    "Method Overloading in Python\n",
    "\n",
    "Method Overloading: Defining methods that have the same name but with different arguments.\n",
    "\n",
    "Python does not support method overloading by deafult.\n",
    "\n",
    "In method overloading, the latest definded method will be executed.\n",
    "\n",
    "Consider an add() function for example: \n",
    "\n"
   ]
  },
  {
   "cell_type": "code",
   "execution_count": 21,
   "metadata": {},
   "outputs": [
    {
     "name": "stdout",
     "output_type": "stream",
     "text": [
      "57\n",
      "28\n"
     ]
    }
   ],
   "source": [
    "class NumAdd:\n",
    "    def add(self,a,b,c=None):\n",
    "        if not c:\n",
    "            return a+b\n",
    "        else:\n",
    "            return a+b+c\n",
    "    \n",
    "s3=NumAdd()\n",
    "print(s3.add(9,19,29))\n",
    "print(s3.add(9,19))"
   ]
  },
  {
   "cell_type": "code",
   "execution_count": null,
   "metadata": {},
   "outputs": [],
   "source": [
    "class Vehicle:\n",
    "    def __init__(self,make,model):\n",
    "        self.make=make\n",
    "        self.model=model\n",
    "    \n",
    "    def display(self):\n",
    "        print(self.make)\n",
    "        print(self.model)\n",
    "    "
   ]
  }
 ],
 "metadata": {
  "kernelspec": {
   "display_name": "Python 3",
   "language": "python",
   "name": "python3"
  },
  "language_info": {
   "codemirror_mode": {
    "name": "ipython",
    "version": 3
   },
   "file_extension": ".py",
   "mimetype": "text/x-python",
   "name": "python",
   "nbconvert_exporter": "python",
   "pygments_lexer": "ipython3",
   "version": "3.10.0"
  }
 },
 "nbformat": 4,
 "nbformat_minor": 2
}
