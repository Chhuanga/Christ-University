{
 "cells": [
  {
   "cell_type": "markdown",
   "metadata": {},
   "source": [
    "Structured Array\n"
   ]
  },
  {
   "cell_type": "code",
   "execution_count": 6,
   "metadata": {},
   "outputs": [
    {
     "name": "stdout",
     "output_type": "stream",
     "text": [
      "[ 1  2  3  4  5  6  7  8  9 10]\n"
     ]
    }
   ],
   "source": [
    "import numpy as np\n",
    "\n",
    "arr=np.array(0,1,2,3,4,5,6,7,8,9,10])\n",
    "\n",
    "newarr=arr.astype('i')\n",
    "print(newarr)"
   ]
  },
  {
   "cell_type": "code",
   "execution_count": 10,
   "metadata": {},
   "outputs": [
    {
     "name": "stdout",
     "output_type": "stream",
     "text": [
      "[ True  True  True  True  True  True  True  True  True  True]\n",
      "bool\n"
     ]
    }
   ],
   "source": [
    "newarr=arr.astype(bool)\n",
    "print(newarr)\n",
    "print(newarr.dtype)"
   ]
  },
  {
   "cell_type": "code",
   "execution_count": 12,
   "metadata": {},
   "outputs": [
    {
     "name": "stdout",
     "output_type": "stream",
     "text": [
      "[(b'Tom', 25) (b'Jerry', 22)]\n"
     ]
    }
   ],
   "source": [
    "dtype=np.dtype([('name','S10'),('age','i4')])\n",
    "\n",
    "data=np.array([('Tom',25),('Jerry',22)],dtype=dtype)\n",
    "\n",
    "print(data) "
   ]
  },
  {
   "cell_type": "markdown",
   "metadata": {},
   "source": [
    "Sorting \n",
    "\n"
   ]
  },
  {
   "cell_type": "code",
   "execution_count": 16,
   "metadata": {},
   "outputs": [
    {
     "name": "stdout",
     "output_type": "stream",
     "text": [
      "[(b'Jerry', 22) (b'Tom', 25)]\n"
     ]
    }
   ],
   "source": [
    "sorted_data=np.sort(data,order='age')\n",
    "print(sorted_data)\n",
    "min_data=np.min(arr)"
   ]
  },
  {
   "cell_type": "code",
   "execution_count": null,
   "metadata": {},
   "outputs": [],
   "source": []
  },
  {
   "cell_type": "markdown",
   "metadata": {},
   "source": [
    "Create a structured array for six employees with the fields: name (string), salary(float) and years of experience (integer)"
   ]
  },
  {
   "cell_type": "code",
   "execution_count": 17,
   "metadata": {},
   "outputs": [
    {
     "name": "stdout",
     "output_type": "stream",
     "text": [
      "[(b'Karan', 75000., 1) (b'Dave', 50000., 2) (b'Shrey', 70000., 3)\n",
      " (b'Mohsin', 55000., 4) (b'Anjaney', 60000., 5) (b'Anirban', 65000., 6)]\n",
      "[(b'Dave', 50000., 2) (b'Anjaney', 60000., 5) (b'Shrey', 70000., 3)\n",
      " (b'Mohsin', 55000., 4) (b'Anirban', 65000., 6) (b'Karan', 75000., 1)]\n"
     ]
    }
   ],
   "source": [
    "import numpy as np\n",
    "\n",
    "dtype = np.dtype([('name', 'S10'), ('salary', float), ('years_of_experience', int)])\n",
    "\n",
    "employees = np.array([('Dave', 50000.0, 2),\n",
    "                     ('Anjaney', 60000.0, 5),\n",
    "                     ('Shrey', 70000.0, 3),\n",
    "                     ('Mohsin', 55000.0, 4),\n",
    "                     ('Anirban', 65000.0, 6),\n",
    "                     ('Karan', 75000.0, 1)], dtype=dtype)\n",
    "\n",
    "sorted_employees = np.sort(employees, order='years_of_experience')\n",
    "print(sorted_employees)\n",
    "\n",
    "\n",
    "\n",
    "\n",
    "print(employees)"
   ]
  },
  {
   "cell_type": "markdown",
   "metadata": {},
   "source": [
    "Given a structured array with fields product"
   ]
  }
 ],
 "metadata": {
  "kernelspec": {
   "display_name": "Python 3",
   "language": "python",
   "name": "python3"
  },
  "language_info": {
   "codemirror_mode": {
    "name": "ipython",
    "version": 3
   },
   "file_extension": ".py",
   "mimetype": "text/x-python",
   "name": "python",
   "nbconvert_exporter": "python",
   "pygments_lexer": "ipython3",
   "version": "3.12.5"
  }
 },
 "nbformat": 4,
 "nbformat_minor": 2
}
