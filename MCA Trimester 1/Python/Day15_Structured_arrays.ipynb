{
 "cells": [
  {
   "cell_type": "code",
   "execution_count": 58,
   "id": "6f06fbcc",
   "metadata": {},
   "outputs": [
    {
     "data": {
      "text/plain": [
       "dtype('int32')"
      ]
     },
     "execution_count": 58,
     "metadata": {},
     "output_type": "execute_result"
    }
   ],
   "source": [
    "#Check the Data Type of an Array\n",
    "\n",
    "import numpy as np\n",
    "\n",
    "arr = np.array([1, 2, 3, 4])\n",
    "\n",
    "arr.dtype"
   ]
  },
  {
   "cell_type": "code",
   "execution_count": 60,
   "id": "e4012555",
   "metadata": {},
   "outputs": [
    {
     "name": "stdout",
     "output_type": "stream",
     "text": [
      "[1. 2. 3. 4.]\n"
     ]
    },
    {
     "data": {
      "text/plain": [
       "dtype('float64')"
      ]
     },
     "execution_count": 60,
     "metadata": {},
     "output_type": "execute_result"
    }
   ],
   "source": [
    "#Change any int value to a float one and check the result (say 4 as 4.0)\n",
    "\n",
    "arr = np.array([1, 2.0, 3, 4.0])\n",
    "print(arr) \n",
    "arr.dtype"
   ]
  },
  {
   "cell_type": "code",
   "execution_count": 63,
   "id": "bd41c49a",
   "metadata": {},
   "outputs": [
    {
     "data": {
      "text/plain": [
       "dtype('<U12')"
      ]
     },
     "execution_count": 63,
     "metadata": {},
     "output_type": "execute_result"
    }
   ],
   "source": [
    "#similarly an array containing strings\n",
    "\n",
    "arr = np.array(['strawberries', 'banana', 'cherry'])\n",
    "\n",
    "arr.dtype\n",
    "\n",
    "#U stands for unicode string\n",
    "#6 represents the maximum no of characters present in the string"
   ]
  },
  {
   "cell_type": "code",
   "execution_count": 64,
   "id": "c25be955",
   "metadata": {},
   "outputs": [
    {
     "name": "stdout",
     "output_type": "stream",
     "text": [
      "[b'1' b'2' b'3' b'4']\n",
      "|S1\n"
     ]
    }
   ],
   "source": [
    "#--Creating Arrays With a Defined Data Type\n",
    "\n",
    "#dtype allows to define the expected data type of the array elements:\n",
    "\n",
    "arr = np.array([1, 2, 3, 4], dtype='S')\n",
    "\n",
    "print(arr)\n",
    "print(arr.dtype)\n",
    "\n",
    "#Here `b '1' byte string \n",
    "#means the array holds strings in byte format.\n",
    "\n",
    "#Byte Strings: In Python, strings can be represented as byte strings \n",
    "#(which are sequences of bytes) by prefixing them with a b, \n",
    "#like b'hello'. This indicates that the string is not a regular Unicode string\n",
    "#but a byte string."
   ]
  },
  {
   "cell_type": "code",
   "execution_count": 65,
   "id": "8b831558",
   "metadata": {},
   "outputs": [
    {
     "name": "stdout",
     "output_type": "stream",
     "text": [
      "[1 2 3 4]\n",
      "int32\n"
     ]
    }
   ],
   "source": [
    "#Similarly, the size can be defined for i, u, f, s and U\n",
    "\n",
    "#For example\n",
    "\n",
    "arr = np.array([1, 2, 3, 4], dtype='i4')\n",
    "\n",
    "print(arr)\n",
    "print(arr.dtype)"
   ]
  },
  {
   "cell_type": "code",
   "execution_count": 66,
   "id": "77faea0e",
   "metadata": {},
   "outputs": [
    {
     "name": "stdout",
     "output_type": "stream",
     "text": [
      "[1 2 3]\n",
      "int32\n"
     ]
    }
   ],
   "source": [
    "# Converting Data Type on Existing Arrays\n",
    "\n",
    "#Can be done by astype() method by creating a copy of the array\n",
    "\n",
    "#astype() function creates a copy of the array, \n",
    "#then allows you to specify the data type as a parameter.\n",
    "\n",
    "#Qn: Change data type from float to integer by using 'i' as parameter value.\n",
    "\n",
    "arr = np.array([1.1, 2.1, 3.1])\n",
    "newarr = arr.astype('i')#creating a copy of the array\n",
    "print(newarr)\n",
    "print(newarr.dtype)"
   ]
  },
  {
   "cell_type": "code",
   "execution_count": 67,
   "id": "46ad6a72",
   "metadata": {},
   "outputs": [
    {
     "name": "stdout",
     "output_type": "stream",
     "text": [
      "[ True False  True]\n",
      "bool\n"
     ]
    }
   ],
   "source": [
    "#Qn: Change data type from integer to boolean \n",
    "arr = np.array([1, 0, 3])\n",
    "\n",
    "newarr = arr.astype(bool)\n",
    "\n",
    "print(newarr)\n",
    "print(newarr.dtype)\n",
    "\n",
    "#0 is considered False in a boolean context.\n",
    "#Any non-zero value is considered True in a boolean context."
   ]
  },
  {
   "cell_type": "code",
   "execution_count": 68,
   "id": "348d83e6",
   "metadata": {},
   "outputs": [],
   "source": [
    "#-----Creating Structured Arrays-----\n",
    "\n",
    "dtype = np.dtype([('name', 'U20'), ('age', np.int32), ('grade', np.float64)])"
   ]
  },
  {
   "cell_type": "code",
   "execution_count": 69,
   "id": "81f86b84",
   "metadata": {},
   "outputs": [],
   "source": [
    "data = np.array([('Alice', 25, 4.8), ('Bob', 23, 3.9), ('Charlie', 27, 4.5)], dtype=dtype)"
   ]
  },
  {
   "cell_type": "code",
   "execution_count": 70,
   "id": "ac02d9e3",
   "metadata": {},
   "outputs": [
    {
     "name": "stdout",
     "output_type": "stream",
     "text": [
      "['Alice' 'Bob' 'Charlie']\n"
     ]
    }
   ],
   "source": [
    "# Access the 'name' field\n",
    "print(data['name'])\n"
   ]
  },
  {
   "cell_type": "code",
   "execution_count": 71,
   "id": "f968f9de",
   "metadata": {},
   "outputs": [
    {
     "data": {
      "text/plain": [
       "array([25, 23, 27])"
      ]
     },
     "execution_count": 71,
     "metadata": {},
     "output_type": "execute_result"
    }
   ],
   "source": [
    "# Access the 'age' field\n",
    "data['age']"
   ]
  },
  {
   "cell_type": "code",
   "execution_count": 72,
   "id": "ed06cad1",
   "metadata": {},
   "outputs": [
    {
     "data": {
      "text/plain": [
       "array([4.8, 3.9, 4.5])"
      ]
     },
     "execution_count": 72,
     "metadata": {},
     "output_type": "execute_result"
    }
   ],
   "source": [
    "# Access the 'grade' field\n",
    "data['grade']"
   ]
  },
  {
   "cell_type": "code",
   "execution_count": 73,
   "id": "8c648e80",
   "metadata": {},
   "outputs": [
    {
     "name": "stdout",
     "output_type": "stream",
     "text": [
      "[('Charlie', 27, 4.5) ('Alice', 25, 4.8) ('Bob', 23, 3.9)]\n"
     ]
    }
   ],
   "source": [
    "#Manipulating Structured Arrays\n",
    "# Qn ---Sorting---\n",
    "\n",
    "#sort the data array based on the 'age' field in descending order \n",
    "sorted_data = np.sort(data, order='age')[::-1]\n",
    "print(sorted_data)\n",
    "\n"
   ]
  },
  {
   "cell_type": "code",
   "execution_count": 74,
   "id": "8b7b1765",
   "metadata": {},
   "outputs": [
    {
     "name": "stdout",
     "output_type": "stream",
     "text": [
      "25.0\n",
      "4.8\n"
     ]
    }
   ],
   "source": [
    "#--Aggregations---\n",
    "\n",
    "average_age = np.mean(data['age'])\n",
    "maximum_grade = np.max(data['grade'])\n",
    "\n",
    "print(average_age)  \n",
    "print(maximum_grade)  \n"
   ]
  },
  {
   "cell_type": "code",
   "execution_count": 75,
   "id": "78c8edae",
   "metadata": {},
   "outputs": [
    {
     "name": "stdout",
     "output_type": "stream",
     "text": [
      "[('Alice', 25, 4.8) ('Bob', 23, 3.9)]\n"
     ]
    }
   ],
   "source": [
    "#Filtering ( based on certain conditions)\n",
    "\n",
    "dtype = np.dtype([('name', 'U20'), ('age', np.int32), ('grade', np.float64)])\n",
    "data = np.array([('Alice', 25, 4.8), ('Bob', 23, 3.9), ('Charlie', 27, 4.5)], dtype=dtype)\n",
    "\n",
    "filtered_data = data[data['age'] < 26]\n",
    "print(filtered_data)"
   ]
  },
  {
   "cell_type": "code",
   "execution_count": null,
   "id": "840a3016",
   "metadata": {},
   "outputs": [],
   "source": [
    "#Concatenation\n",
    "\n",
    "new_data = np.array([('David', 28, 4.3), ('Eve', 22, 3.7)], dtype=dtype)\n",
    "concatenated_data = np.concatenate((data, new_data))\n",
    "print(concatenated_data)"
   ]
  },
  {
   "cell_type": "code",
   "execution_count": null,
   "id": "3669f7b5",
   "metadata": {},
   "outputs": [],
   "source": [
    "#vertical Concatenation\n",
    "\n",
    "data1 = np.array([('Alice', 25, 4.8), ('Bob', 23, 3.9), ('Charlie', 27, 4.5)], dtype=dtype)\n",
    "data2 = np.array([('David', 28, 4.3), ('Eve', 22, 3.7), ('John', 28, 4.0)], dtype=dtype)\n",
    "concatenated_data = np.vstack((data1, data2))\n",
    "print(concatenated_data)"
   ]
  },
  {
   "cell_type": "code",
   "execution_count": null,
   "id": "49fb61bc",
   "metadata": {},
   "outputs": [],
   "source": [
    "#Adding or modifying the field names\n",
    "\n",
    "#Qn: For an original structured array data with fields name and age, \n",
    "#add another field named height:\n",
    "# Original structured array\n",
    "\n",
    "#1. Create the dtype\n",
    "dtype = np.dtype([('name', 'U10'), ('age', 'i4')])\n",
    "data = np.array([('Alice', 25), ('Bob', 30)], dtype=dtype)\n",
    "\n",
    "# Add a new field 'height'\n",
    "new_dtype = np.dtype(data.dtype.descr + [('height', 'f4')])\n",
    "\n",
    "# Create a new array with the extended dtype\n",
    "new_data = np.zeros(data.shape, dtype=new_dtype)\n",
    "\n",
    "# Copy existing data\n",
    "for name in data.dtype.names:\n",
    "    new_data[name] = data[name]\n",
    "\n",
    "# Add new data for the 'height' field\n",
    "new_data['height'] = [160.5, 170.0]\n",
    "\n",
    "print(new_data)"
   ]
  },
  {
   "cell_type": "code",
   "execution_count": null,
   "id": "4eee65aa",
   "metadata": {},
   "outputs": [],
   "source": [
    "#Create a structured array for six employees with the fields: name (string), \n",
    "#salary (float), and years_of_experience (integer). \n",
    "#Populate the array with some sample data and then sort the array \n",
    "#based on salary in ascending order. Print the sorted array.\n",
    "\n",
    "# Step 1: Define the structured data type\n",
    "dtype = np.dtype([('name', 'U20'), ('salary', 'f4'), ('years_of_experience', 'i4')])\n",
    "\n",
    "# Step 2: Create the structured array with sample data\n",
    "employees = np.array([\n",
    "    ('Alice', 75000.0, 5),\n",
    "    ('Bob', 50000.0, 2),\n",
    "    ('Charlie', 60000.0, 3),\n",
    "    ('David', 85000.0, 7),\n",
    "    ('Eve', 95000.0, 10),\n",
    "    ('Frank', 70000.0, 4)\n",
    "], dtype=dtype)\n",
    "\n",
    "# Step 3: Sort the array based on salary in ascending order\n",
    "sorted_employees = np.sort(employees, order='salary')\n",
    "\n",
    "# Step 4: Print the sorted array\n",
    "print(\"Employees sorted by salary (ascending order):\")\n",
    "print(sorted_employees)"
   ]
  },
  {
   "cell_type": "code",
   "execution_count": null,
   "id": "86330955",
   "metadata": {},
   "outputs": [],
   "source": []
  }
 ],
 "metadata": {
  "kernelspec": {
   "display_name": "Python 3 (ipykernel)",
   "language": "python",
   "name": "python3"
  },
  "language_info": {
   "codemirror_mode": {
    "name": "ipython",
    "version": 3
   },
   "file_extension": ".py",
   "mimetype": "text/x-python",
   "name": "python",
   "nbconvert_exporter": "python",
   "pygments_lexer": "ipython3",
   "version": "3.10.9"
  }
 },
 "nbformat": 4,
 "nbformat_minor": 5
}
