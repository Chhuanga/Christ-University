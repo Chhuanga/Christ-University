{
 "cells": [
  {
   "cell_type": "code",
   "execution_count": 17,
   "metadata": {},
   "outputs": [
    {
     "name": "stdout",
     "output_type": "stream",
     "text": [
      "Hello from MyClass\n"
     ]
    }
   ],
   "source": [
    "from abc import ABC, abstractmethod\n",
    "\n",
    "class MyAbstractClass(ABC):\n",
    "    @abstractmethod\n",
    "    def my_abstract_method(self):\n",
    "       pass\n",
    "\n",
    "class MyClass(MyAbstractClass):\n",
    "    def my_abstract_method(self):\n",
    "        print(\"Hello from MyClass\")\n",
    "\n",
    "n1=MyClass()\n",
    "n1.my_abstract_method()\n"
   ]
  },
  {
   "cell_type": "code",
   "execution_count": 18,
   "metadata": {},
   "outputs": [
    {
     "name": "stdout",
     "output_type": "stream",
     "text": [
      "Hello from MyConcreteClass\n"
     ]
    }
   ],
   "source": [
    "class MyConcreteClass(MyAbstractClass):\n",
    "    def my_abstract_method(self):\n",
    "        print(\"Hello from MyConcreteClass\")\n",
    "\n",
    "n2 = MyConcreteClass()\n",
    "n2.my_abstract_method()"
   ]
  },
  {
   "cell_type": "code",
   "execution_count": 28,
   "metadata": {},
   "outputs": [
    {
     "name": "stdout",
     "output_type": "stream",
     "text": [
      "\n",
      "------------------------------\n",
      "    1. Car\n",
      "    2. Truck\n",
      "    3. Motorcycle\n",
      "    4. Exit\n",
      "------------------------------\n",
      "\n"
     ]
    },
    {
     "ename": "KeyboardInterrupt",
     "evalue": "Interrupted by user",
     "output_type": "error",
     "traceback": [
      "\u001b[1;31m---------------------------------------------------------------------------\u001b[0m",
      "\u001b[1;31mKeyboardInterrupt\u001b[0m                         Traceback (most recent call last)",
      "Cell \u001b[1;32mIn[28], line 42\u001b[0m\n\u001b[0;32m     33\u001b[0m \u001b[38;5;28;01mwhile\u001b[39;00m(\u001b[38;5;28;01mTrue\u001b[39;00m):\n\u001b[0;32m     34\u001b[0m     \u001b[38;5;28mprint\u001b[39m(\u001b[38;5;124m\"\"\"\u001b[39m\n\u001b[0;32m     35\u001b[0m \u001b[38;5;124m------------------------------\u001b[39m\n\u001b[0;32m     36\u001b[0m \u001b[38;5;124m    1. Car\u001b[39m\n\u001b[1;32m   (...)\u001b[0m\n\u001b[0;32m     40\u001b[0m \u001b[38;5;124m------------------------------\u001b[39m\n\u001b[0;32m     41\u001b[0m \u001b[38;5;124m\"\"\"\u001b[39m)\n\u001b[1;32m---> 42\u001b[0m     choice\u001b[38;5;241m=\u001b[39m\u001b[38;5;28mint\u001b[39m(\u001b[38;5;28;43minput\u001b[39;49m\u001b[43m(\u001b[49m\u001b[38;5;124;43m\"\u001b[39;49m\u001b[38;5;124;43mEnter your choice:\u001b[39;49m\u001b[38;5;124;43m\"\u001b[39;49m\u001b[43m)\u001b[49m)\n\u001b[0;32m     43\u001b[0m     \u001b[38;5;28;01mif\u001b[39;00m choice\u001b[38;5;241m==\u001b[39m\u001b[38;5;241m1\u001b[39m:\n\u001b[0;32m     44\u001b[0m         c1\u001b[38;5;241m=\u001b[39mCar()\n",
      "File \u001b[1;32m~\\AppData\\Roaming\\Python\\Python312\\site-packages\\ipykernel\\kernelbase.py:1282\u001b[0m, in \u001b[0;36mKernel.raw_input\u001b[1;34m(self, prompt)\u001b[0m\n\u001b[0;32m   1280\u001b[0m     msg \u001b[38;5;241m=\u001b[39m \u001b[38;5;124m\"\u001b[39m\u001b[38;5;124mraw_input was called, but this frontend does not support input requests.\u001b[39m\u001b[38;5;124m\"\u001b[39m\n\u001b[0;32m   1281\u001b[0m     \u001b[38;5;28;01mraise\u001b[39;00m StdinNotImplementedError(msg)\n\u001b[1;32m-> 1282\u001b[0m \u001b[38;5;28;01mreturn\u001b[39;00m \u001b[38;5;28;43mself\u001b[39;49m\u001b[38;5;241;43m.\u001b[39;49m\u001b[43m_input_request\u001b[49m\u001b[43m(\u001b[49m\n\u001b[0;32m   1283\u001b[0m \u001b[43m    \u001b[49m\u001b[38;5;28;43mstr\u001b[39;49m\u001b[43m(\u001b[49m\u001b[43mprompt\u001b[49m\u001b[43m)\u001b[49m\u001b[43m,\u001b[49m\n\u001b[0;32m   1284\u001b[0m \u001b[43m    \u001b[49m\u001b[38;5;28;43mself\u001b[39;49m\u001b[38;5;241;43m.\u001b[39;49m\u001b[43m_parent_ident\u001b[49m\u001b[43m[\u001b[49m\u001b[38;5;124;43m\"\u001b[39;49m\u001b[38;5;124;43mshell\u001b[39;49m\u001b[38;5;124;43m\"\u001b[39;49m\u001b[43m]\u001b[49m\u001b[43m,\u001b[49m\n\u001b[0;32m   1285\u001b[0m \u001b[43m    \u001b[49m\u001b[38;5;28;43mself\u001b[39;49m\u001b[38;5;241;43m.\u001b[39;49m\u001b[43mget_parent\u001b[49m\u001b[43m(\u001b[49m\u001b[38;5;124;43m\"\u001b[39;49m\u001b[38;5;124;43mshell\u001b[39;49m\u001b[38;5;124;43m\"\u001b[39;49m\u001b[43m)\u001b[49m\u001b[43m,\u001b[49m\n\u001b[0;32m   1286\u001b[0m \u001b[43m    \u001b[49m\u001b[43mpassword\u001b[49m\u001b[38;5;241;43m=\u001b[39;49m\u001b[38;5;28;43;01mFalse\u001b[39;49;00m\u001b[43m,\u001b[49m\n\u001b[0;32m   1287\u001b[0m \u001b[43m\u001b[49m\u001b[43m)\u001b[49m\n",
      "File \u001b[1;32m~\\AppData\\Roaming\\Python\\Python312\\site-packages\\ipykernel\\kernelbase.py:1325\u001b[0m, in \u001b[0;36mKernel._input_request\u001b[1;34m(self, prompt, ident, parent, password)\u001b[0m\n\u001b[0;32m   1322\u001b[0m \u001b[38;5;28;01mexcept\u001b[39;00m \u001b[38;5;167;01mKeyboardInterrupt\u001b[39;00m:\n\u001b[0;32m   1323\u001b[0m     \u001b[38;5;66;03m# re-raise KeyboardInterrupt, to truncate traceback\u001b[39;00m\n\u001b[0;32m   1324\u001b[0m     msg \u001b[38;5;241m=\u001b[39m \u001b[38;5;124m\"\u001b[39m\u001b[38;5;124mInterrupted by user\u001b[39m\u001b[38;5;124m\"\u001b[39m\n\u001b[1;32m-> 1325\u001b[0m     \u001b[38;5;28;01mraise\u001b[39;00m \u001b[38;5;167;01mKeyboardInterrupt\u001b[39;00m(msg) \u001b[38;5;28;01mfrom\u001b[39;00m \u001b[38;5;28;01mNone\u001b[39;00m\n\u001b[0;32m   1326\u001b[0m \u001b[38;5;28;01mexcept\u001b[39;00m \u001b[38;5;167;01mException\u001b[39;00m:\n\u001b[0;32m   1327\u001b[0m     \u001b[38;5;28mself\u001b[39m\u001b[38;5;241m.\u001b[39mlog\u001b[38;5;241m.\u001b[39mwarning(\u001b[38;5;124m\"\u001b[39m\u001b[38;5;124mInvalid Message:\u001b[39m\u001b[38;5;124m\"\u001b[39m, exc_info\u001b[38;5;241m=\u001b[39m\u001b[38;5;28;01mTrue\u001b[39;00m)\n",
      "\u001b[1;31mKeyboardInterrupt\u001b[0m: Interrupted by user"
     ]
    }
   ],
   "source": [
    "class Vehicle (ABC):\n",
    "    @abstractmethod\n",
    "    def start_engine(self):\n",
    "        pass\n",
    "    @abstractmethod\n",
    "    def stop_engine(self):\n",
    "        pass\n",
    "    @abstractmethod\n",
    "    def vehicle_type(self):\n",
    "        pass\n",
    "class Car(Vehicle):\n",
    "    def vehicle_type(self):\n",
    "        print(\"Car\")\n",
    "    def start_engine(self):\n",
    "        print(\"Car Engine started\")     \n",
    "    def stop_engine(self):\n",
    "        print(\"Car Engine Stopped\")\n",
    "class Truck(Vehicle):\n",
    "    def vehicle_type(self):\n",
    "        print(\"Truck\")\n",
    "    def start_engine(self):\n",
    "        print(\"Truck Engine started\")\n",
    "    def stop_engine(self):\n",
    "        print(\"Truck Engine Stopped\")\n",
    "class Motorcycle(Vehicle):\n",
    "    def vehicle_type(self):\n",
    "        print(\"Motorcycle\")\n",
    "    def start_engine(self):\n",
    "        print(\"Motorcycle Engine started\")\n",
    "    def stop_engine(self):\n",
    "        print(\"Motorcycle Engine Stopped\")\n",
    "\n",
    "while(True):\n",
    "    print(\"\"\"\n",
    "------------------------------\n",
    "    1. Car\n",
    "    2. Truck\n",
    "    3. Motorcycle\n",
    "    4. Exit\n",
    "------------------------------\n",
    "\"\"\")\n",
    "    choice=int(input(\"Enter your choice:\"))\n",
    "    if choice==1:\n",
    "        c1=Car()\n",
    "        c1.vehicle_type()\n",
    "        c1.start_engine()\n",
    "        c1.stop_engine()\n",
    "    elif choice==2:\n",
    "        t1=Truck()\n",
    "        t1.vehicle_type()\n",
    "        t1.start_engine()\n",
    "        t1.stop_engine()\n",
    "    elif choice==3:\n",
    "        m1=Motorcycle()\n",
    "        m1.vehicle_type()\n",
    "        m1.start_engine()\n",
    "        m1.stop_engine()\n",
    "    elif choice==4:\n",
    "        break\n",
    "    else:\n",
    "        print(\"Invalid Choice\")\n",
    "\n"
   ]
  },
  {
   "cell_type": "code",
   "execution_count": 30,
   "metadata": {},
   "outputs": [],
   "source": [
    "##Employee Management System\n",
    "\n",
    "class Employee(ABC):\n",
    "    @abstractmethod\n",
    "    def current_projects(self):\n",
    "        pass\n",
    "    @abstractmethod\n",
    "    def attending_meetings(self):\n",
    "        pass\n",
    "class Developer(Employee):\n",
    "    def current_projects(self):\n",
    "        print(\"Current Projects: Project 1, Project 2\")\n",
    "    def attending_meetings(self):\n",
    "        print(\"Attending Meetings: Meeting 1, Meeting 2\")\n",
    "class Manager(Employee):\n",
    "    def current_projects(self):\n",
    "        print(\"Current Projects: Project 3, Project 4\")\n",
    "    def attending_meetings(self):\n",
    "        print(\"Attending Meetings: Meeting 3, Meeting 4\")\n",
    "class Tester(Employee): \n",
    "    def current_projects(self):\n",
    "        print(\"Current Projects: Project 5, Project 6\")\n",
    "    def attending_meetings(self):\n",
    "        print(\"Attending Meetings: Meeting 5, Meeting 6\")\n",
    "\n"
   ]
  },
  {
   "cell_type": "code",
   "execution_count": null,
   "metadata": {},
   "outputs": [],
   "source": []
  }
 ],
 "metadata": {
  "kernelspec": {
   "display_name": "Python 3",
   "language": "python",
   "name": "python3"
  },
  "language_info": {
   "codemirror_mode": {
    "name": "ipython",
    "version": 3
   },
   "file_extension": ".py",
   "mimetype": "text/x-python",
   "name": "python",
   "nbconvert_exporter": "python",
   "pygments_lexer": "ipython3",
   "version": "3.12.5"
  }
 },
 "nbformat": 4,
 "nbformat_minor": 2
}
